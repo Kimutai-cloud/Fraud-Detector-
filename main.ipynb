{
 "cells": [
  {
   "cell_type": "code",
   "execution_count": 1,
   "id": "26229d75",
   "metadata": {},
   "outputs": [],
   "source": [
    "from pyspark.sql import SparkSession\n",
    "import pyspark.sql.functions as F\n",
    "from pyspark.sql.functions import col, hour, unix_timestamp, date_format, when \n",
    "from pyspark.ml.feature import StringIndexer, OneHotEncoder,VectorAssembler, StandardScaler\n",
    "from pyspark.ml.classification import LogisticRegression\n",
    "from pyspark.ml.evaluation import BinaryClassificationEvaluator\n",
    "import dash\n",
    "from dash import dcc\n",
    "from dash import html\n",
    "import plotly.express as px\n",
    "import matplotlib.pyplot as plt\n",
    "import seaborn as sns"
   ]
  },
  {
   "cell_type": "code",
   "execution_count": 2,
   "id": "028497a5",
   "metadata": {},
   "outputs": [],
   "source": [
    "#Initialize Spark session\n",
    "spark = SparkSession.builder.appName('AnomalyDetection').getOrCreate()"
   ]
  },
  {
   "cell_type": "code",
   "execution_count": 3,
   "id": "8d29637f",
   "metadata": {},
   "outputs": [],
   "source": [
    "#Load the training and testing datasets\n",
    "train_data = spark.read.csv('fraudTrain.csv', header=True, inferSchema=True)\n",
    "test_data = spark.read.csv('fraudTest.csv', header=True, inferSchema=True)"
   ]
  },
  {
   "cell_type": "code",
   "execution_count": 4,
   "id": "a48ecbcf",
   "metadata": {},
   "outputs": [
    {
     "name": "stdout",
     "output_type": "stream",
     "text": [
      "+---+---------------------+----------------+--------------------+-------------+------+---------+-------+------+--------------------+--------------+-----+-----+-------+---------+--------+--------------------+----------+--------------------+----------+------------------+-----------+--------+\n",
      "|_c0|trans_date_trans_time|          cc_num|            merchant|     category|   amt|    first|   last|gender|              street|          city|state|  zip|    lat|     long|city_pop|                 job|       dob|           trans_num| unix_time|         merch_lat| merch_long|is_fraud|\n",
      "+---+---------------------+----------------+--------------------+-------------+------+---------+-------+------+--------------------+--------------+-----+-----+-------+---------+--------+--------------------+----------+--------------------+----------+------------------+-----------+--------+\n",
      "|  0|  2019-01-01 00:00:18|2703186189652095|fraud_Rippin, Kub...|     misc_net|  4.97| Jennifer|  Banks|     F|      561 Perry Cove|Moravian Falls|   NC|28654|36.0788| -81.1781|    3495|Psychologist, cou...|1988-03-09|0b242abb623afc578...|1325376018|         36.011293| -82.048315|       0|\n",
      "|  1|  2019-01-01 00:00:44|    630423337322|fraud_Heller, Gut...|  grocery_pos|107.23|Stephanie|   Gill|     F|43039 Riley Green...|        Orient|   WA|99160|48.8878|-118.2105|     149|Special education...|1978-06-21|1f76529f857473494...|1325376044|49.159046999999994|-118.186462|       0|\n",
      "|  2|  2019-01-01 00:00:51|  38859492057661|fraud_Lind-Buckridge|entertainment|220.11|   Edward|Sanchez|     M|594 White Dale Su...|    Malad City|   ID|83252|42.1808| -112.262|    4154|Nature conservati...|1962-01-19|a1a22d70485983eac...|1325376051|         43.150704|-112.154481|       0|\n",
      "|  3|  2019-01-01 00:01:16|3534093764340240|fraud_Kutch, Herm...|gas_transport|  45.0|   Jeremy|  White|     M|9443 Cynthia Cour...|       Boulder|   MT|59632|46.2306|-112.1138|    1939|     Patent attorney|1967-01-12|6b849c168bdad6f86...|1325376076|         47.034331|-112.561071|       0|\n",
      "|  4|  2019-01-01 00:03:06| 375534208663984| fraud_Keeling-Crist|     misc_pos| 41.96|    Tyler| Garcia|     M|    408 Bradley Rest|      Doe Hill|   VA|24433|38.4207| -79.4629|      99|Dance movement ps...|1986-03-28|a41d7549acf907893...|1325376186|         38.674999| -78.632459|       0|\n",
      "+---+---------------------+----------------+--------------------+-------------+------+---------+-------+------+--------------------+--------------+-----+-----+-------+---------+--------+--------------------+----------+--------------------+----------+------------------+-----------+--------+\n",
      "only showing top 5 rows\n",
      "\n"
     ]
    }
   ],
   "source": [
    "#Preview the data\n",
    "train_data.show(5)"
   ]
  },
  {
   "cell_type": "code",
   "execution_count": 5,
   "id": "42e8a144",
   "metadata": {},
   "outputs": [
    {
     "data": {
      "text/plain": [
       "['_c0',\n",
       " 'trans_date_trans_time',\n",
       " 'cc_num',\n",
       " 'merchant',\n",
       " 'category',\n",
       " 'amt',\n",
       " 'first',\n",
       " 'last',\n",
       " 'gender',\n",
       " 'street',\n",
       " 'city',\n",
       " 'state',\n",
       " 'zip',\n",
       " 'lat',\n",
       " 'long',\n",
       " 'city_pop',\n",
       " 'job',\n",
       " 'dob',\n",
       " 'trans_num',\n",
       " 'unix_time',\n",
       " 'merch_lat',\n",
       " 'merch_long',\n",
       " 'is_fraud']"
      ]
     },
     "execution_count": 5,
     "metadata": {},
     "output_type": "execute_result"
    }
   ],
   "source": [
    "train_data.columns"
   ]
  },
  {
   "cell_type": "code",
   "execution_count": 6,
   "id": "5334c115",
   "metadata": {},
   "outputs": [
    {
     "name": "stdout",
     "output_type": "stream",
     "text": [
      "root\n",
      " |-- _c0: integer (nullable = true)\n",
      " |-- trans_date_trans_time: timestamp (nullable = true)\n",
      " |-- cc_num: long (nullable = true)\n",
      " |-- merchant: string (nullable = true)\n",
      " |-- category: string (nullable = true)\n",
      " |-- amt: double (nullable = true)\n",
      " |-- first: string (nullable = true)\n",
      " |-- last: string (nullable = true)\n",
      " |-- gender: string (nullable = true)\n",
      " |-- street: string (nullable = true)\n",
      " |-- city: string (nullable = true)\n",
      " |-- state: string (nullable = true)\n",
      " |-- zip: integer (nullable = true)\n",
      " |-- lat: double (nullable = true)\n",
      " |-- long: double (nullable = true)\n",
      " |-- city_pop: integer (nullable = true)\n",
      " |-- job: string (nullable = true)\n",
      " |-- dob: date (nullable = true)\n",
      " |-- trans_num: string (nullable = true)\n",
      " |-- unix_time: integer (nullable = true)\n",
      " |-- merch_lat: double (nullable = true)\n",
      " |-- merch_long: double (nullable = true)\n",
      " |-- is_fraud: integer (nullable = true)\n",
      "\n"
     ]
    }
   ],
   "source": [
    "train_data.printSchema()"
   ]
  },
  {
   "cell_type": "code",
   "execution_count": 7,
   "id": "6f114bfe",
   "metadata": {},
   "outputs": [
    {
     "name": "stdout",
     "output_type": "stream",
     "text": [
      "+--------+--------------------+----------+\n",
      "|city_pop|                 job|       dob|\n",
      "+--------+--------------------+----------+\n",
      "|    3495|Psychologist, cou...|1988-03-09|\n",
      "|     149|Special education...|1978-06-21|\n",
      "|    4154|Nature conservati...|1962-01-19|\n",
      "|    1939|     Patent attorney|1967-01-12|\n",
      "|      99|Dance movement ps...|1986-03-28|\n",
      "+--------+--------------------+----------+\n",
      "only showing top 5 rows\n",
      "\n"
     ]
    }
   ],
   "source": [
    "train_data.select('city_pop','job','dob').show(5)"
   ]
  },
  {
   "cell_type": "markdown",
   "id": "2a2a3da2",
   "metadata": {},
   "source": [
    "Data Preprocessing"
   ]
  },
  {
   "cell_type": "code",
   "execution_count": 8,
   "id": "a0f98b39",
   "metadata": {},
   "outputs": [],
   "source": [
    "#Convert 'trans_date_trans_time' to a proper timestamp and extract time-based features\n",
    "train_data = train_data.withColumn('trans_date_trans_time', unix_timestamp(col('trans_date_trans_time')).cast('timestamp'))\n",
    "train_data = train_data.withColumn('Hour', hour(col('trans_date_trans_time')))\n",
    "train_data = train_data.withColumn('DayOfWeek', date_format(col('trans_date_trans_time'), 'E'))\n",
    "\n",
    "test_data = test_data.withColumn('trans_date_trans_time', unix_timestamp(col('trans_date_trans_time')).cast('timestamp'))\n",
    "test_data = test_data.withColumn('Hour', hour(col('trans_date_trans_time')))\n",
    "test_data = test_data.withColumn('DayOfWeek', date_format(col('trans_date_trans_time'), 'E'))"
   ]
  },
  {
   "cell_type": "code",
   "execution_count": 9,
   "id": "ae06eb71",
   "metadata": {},
   "outputs": [],
   "source": [
    "#Handling missing values\n",
    "train_data = train_data.fillna({'merchant': 'unknown', 'category': 'unknown', 'amt': 0, 'lat': 0, 'long': 0, 'merch_lat': 0, 'merch_long': 0})\n",
    "test_data = test_data.fillna({'merchant': 'unknown', 'category': 'unknown', 'amt': 0, 'lat': 0, 'long': 0, 'merch_lat': 0, 'merch_long': 0})"
   ]
  },
  {
   "cell_type": "code",
   "execution_count": 10,
   "id": "91367ca6",
   "metadata": {},
   "outputs": [
    {
     "name": "stdout",
     "output_type": "stream",
     "text": [
      "+------+------+\n",
      "|gender| count|\n",
      "+------+------+\n",
      "|     F|709863|\n",
      "|     M|586812|\n",
      "+------+------+\n",
      "\n"
     ]
    }
   ],
   "source": [
    "#Distribution of fraud and non-fraud\n",
    "gender_data = train_data.groupBy(\"gender\").count().sort(\"count\", ascending=False)\n",
    "gender_data.show(10)"
   ]
  },
  {
   "cell_type": "code",
   "execution_count": 11,
   "id": "9aaaee60",
   "metadata": {},
   "outputs": [
    {
     "data": {
      "text/plain": [
       "<Axes: xlabel='gender'>"
      ]
     },
     "execution_count": 11,
     "metadata": {},
     "output_type": "execute_result"
    },
    {
     "data": {
      "image/png": "[encoded data removed]",
      "text/plain": [
       "<Figure size 1400x600 with 1 Axes>"
      ]
     },
     "metadata": {},
     "output_type": "display_data"
    }
   ],
   "source": [
    "gender_data.toPandas().plot.bar(x='gender',figsize=(14, 6))"
   ]
  },
  {
   "cell_type": "code",
   "execution_count": 16,
   "id": "8cba1aaf",
   "metadata": {},
   "outputs": [
    {
     "name": "stdout",
     "output_type": "stream",
     "text": [
      "+--------+-------+\n",
      "|is_fraud|  count|\n",
      "+--------+-------+\n",
      "|       0|1289169|\n",
      "+--------+-------+\n",
      "\n",
      "+--------+-----+\n",
      "|is_fraud|count|\n",
      "+--------+-----+\n",
      "|       1| 7506|\n",
      "+--------+-----+\n",
      "\n",
      "+--------+------+------+\n",
      "|is_fraud|gender| count|\n",
      "+--------+------+------+\n",
      "|       1|     F|  3735|\n",
      "|       0|     M|583041|\n",
      "|       1|     M|  3771|\n",
      "|       0|     F|706128|\n",
      "+--------+------+------+\n",
      "\n"
     ]
    }
   ],
   "source": [
    "#Distribution of fraudulent to non fraudulent \n",
    "non_fraud_data = train_data.filter(col('is_fraud') == 1)\n",
    "non_fraud_df = non_fraud_data.groupBy(\"is_fraud\").count()\n",
    "fraud_data = train_data.filter(col('is_fraud') == 0)\n",
    "fraud_df = fraud_data.groupBy(\"is_fraud\").count()\n",
    "fraud_df.show()\n",
    "non_fraud_df.show()\n",
    "\n",
    "#Distribution based on gender\n",
    "fraud_gender_df = train_data.groupBy(\"is_fraud\", \"gender\").count()\n",
    "fraud_gender_df.show()"
   ]
  },
  {
   "cell_type": "code",
   "execution_count": 19,
   "id": "05216439",
   "metadata": {},
   "outputs": [
    {
     "data": {
      "image/png": "[encoded data removed]",
      "text/plain": [
       "<Figure size 1200x600 with 1 Axes>"
      ]
     },
     "metadata": {},
     "output_type": "display_data"
    }
   ],
   "source": [
    "non_fraud_df = non_fraud_data.select('amt', 'Hour', 'DayOfWeek').toPandas()\n",
    "fraud_df = fraud_data.select('amt', 'Hour', 'DayOfWeek').toPandas()\n",
    "\n",
    "#Plot distributions of the transaction amounts\n",
    "plt.figure(figsize=(12, 6))\n",
    "sns.histplot(non_fraud_df['amt'], kde=True, color='blue', label='Non-Fraudulent')\n",
    "sns.histplot(fraud_df['amt'], kde=True, color='red', label='Fraudulent')\n",
    "plt.title('Transaction Amount Distribution')\n",
    "plt.legend()\n",
    "plt.show()\n"
   ]
  },
  {
   "cell_type": "markdown",
   "id": "f898499b",
   "metadata": {},
   "source": [
    "Statistical Inferences"
   ]
  },
  {
   "cell_type": "code",
   "execution_count": 20,
   "id": "733f9201",
   "metadata": {},
   "outputs": [
    {
     "name": "stdout",
     "output_type": "stream",
     "text": [
      "+-------+------------------+------------------+-----------------+-----------------+------------------+\n",
      "|summary|               amt|              Hour|         city_pop|              lat|              long|\n",
      "+-------+------------------+------------------+-----------------+-----------------+------------------+\n",
      "|  count|           1289169|           1289169|          1289169|          1289169|           1289169|\n",
      "|   mean| 67.66710981260032|12.797678969941101|88775.22813688508|38.53688807425436|-90.22814202064717|\n",
      "| stddev|154.00797054609956| 6.796796718026931|301806.5452038316|5.075234210755869|13.755982187702646|\n",
      "|    min|               1.0|                 0|               23|          20.0271|         -165.6723|\n",
      "|    max|           28948.9|                23|          2906700|          65.6899|          -67.9503|\n",
      "+-------+------------------+------------------+-----------------+-----------------+------------------+\n",
      "\n",
      "+-------+-----------------+------------------+-----------------+-----------------+------------------+\n",
      "|summary|              amt|              Hour|         city_pop|              lat|              long|\n",
      "+-------+-----------------+------------------+-----------------+-----------------+------------------+\n",
      "|  count|             7506|              7506|             7506|             7506|              7506|\n",
      "|   mean| 531.320091926459|14.037836397548627|97276.76325606182|38.66360853983499|-89.91604136690646|\n",
      "| stddev|390.5600697255359| 9.702306122722247|326581.4666695107|5.172288961752019|14.278220994355591|\n",
      "|    min|             1.06|                 0|               23|          20.0271|         -165.6723|\n",
      "|    max|          1376.04|                23|          2906700|          66.6933|          -68.5565|\n",
      "+-------+-----------------+------------------+-----------------+-----------------+------------------+\n",
      "\n"
     ]
    }
   ],
   "source": [
    "po#summary statistics for the fraudulent transactions\n",
    "fraud_stats = fraud_data.select('amt', 'Hour', 'city_pop', 'lat', 'long').describe()\n",
    "fraud_stats.show()\n",
    "\n",
    "#summary statistics for the non-fraudulent transactions\n",
    "non_fraud_stats = non_fraud_data.select('amt', 'Hour' ,'city_pop', 'lat', 'long').describe()\n",
    "non_fraud_stats.show()"
   ]
  },
  {
   "cell_type": "markdown",
   "id": "bb5b5962",
   "metadata": {},
   "source": [
    "Feature Engineering"
   ]
  },
  {
   "cell_type": "code",
   "execution_count": 21,
   "id": "5ad13259",
   "metadata": {},
   "outputs": [
    {
     "name": "stdout",
     "output_type": "stream",
     "text": [
      "+---+---------------------+----------------+--------------------+-------------+------+---------+--------+------+--------------------+--------------+-----+-----+-------+------------------+--------+--------------------+----------+--------------------+----------+------------------+------------------+--------+----+---------+--------------+--------------+------------+-----------+-----------------+---------------+-------------+---------------+\n",
      "|_c0|trans_date_trans_time|          cc_num|            merchant|     category|   amt|    first|    last|gender|              street|          city|state|  zip|    lat|              long|city_pop|                 job|       dob|           trans_num| unix_time|         merch_lat|        merch_long|is_fraud|Hour|DayOfWeek|merchant_index|category_index|gender_index|state_index|     merchant_ohe|   category_ohe|   gender_ohe|      state_ohe|\n",
      "+---+---------------------+----------------+--------------------+-------------+------+---------+--------+------+--------------------+--------------+-----+-----+-------+------------------+--------+--------------------+----------+--------------------+----------+------------------+------------------+--------+----+---------+--------------+--------------+------------+-----------+-----------------+---------------+-------------+---------------+\n",
      "|  0|  2019-01-01 00:00:18|2703186189652095|fraud_Rippin, Kub...|     misc_net|  4.97| Jennifer|   Banks|     F|      561 Perry Cove|Moravian Falls|   NC|28654|36.0788|          -81.1781|    3495|Psychologist, cou...|1988-03-09|0b242abb623afc578...|1325376018|         36.011293|        -82.048315|       0|   0|      Tue|         571.0|          11.0|         0.0|       12.0|(692,[571],[1.0])|(13,[11],[1.0])|(1,[0],[1.0])|(50,[12],[1.0])|\n",
      "|  1|  2019-01-01 00:00:44|    630423337322|fraud_Heller, Gut...|  grocery_pos|107.23|Stephanie|    Gill|     F|43039 Riley Green...|        Orient|   WA|99160|48.8878|         -118.2105|     149|Special education...|1978-06-21|1f76529f857473494...|1325376044|49.159046999999994|       -118.186462|       0|   0|      Tue|          81.0|           1.0|         0.0|       29.0| (692,[81],[1.0])| (13,[1],[1.0])|(1,[0],[1.0])|(50,[29],[1.0])|\n",
      "|  2|  2019-01-01 00:00:51|  38859492057661|fraud_Lind-Buckridge|entertainment|220.11|   Edward| Sanchez|     M|594 White Dale Su...|    Malad City|   ID|83252|42.1808|          -112.262|    4154|Nature conservati...|1962-01-19|a1a22d70485983eac...|1325376051|         43.150704|       -112.154481|       0|   0|      Tue|         319.0|           6.0|         1.0|       45.0|(692,[319],[1.0])| (13,[6],[1.0])|    (1,[],[])|(50,[45],[1.0])|\n",
      "|  3|  2019-01-01 00:01:16|3534093764340240|fraud_Kutch, Herm...|gas_transport|  45.0|   Jeremy|   White|     M|9443 Cynthia Cour...|       Boulder|   MT|59632|46.2306|         -112.1138|    1939|     Patent attorney|1967-01-12|6b849c168bdad6f86...|1325376076|         47.034331|       -112.561071|       0|   0|      Tue|          40.0|           0.0|         1.0|       39.0| (692,[40],[1.0])| (13,[0],[1.0])|    (1,[],[])|(50,[39],[1.0])|\n",
      "|  4|  2019-01-01 00:03:06| 375534208663984| fraud_Keeling-Crist|     misc_pos| 41.96|    Tyler|  Garcia|     M|    408 Bradley Rest|      Doe Hill|   VA|24433|38.4207|          -79.4629|      99|Dance movement ps...|1986-03-28|a41d7549acf907893...|1325376186|         38.674999|        -78.632459|       0|   0|      Tue|         519.0|          10.0|         1.0|       14.0|(692,[519],[1.0])|(13,[10],[1.0])|    (1,[],[])|(50,[14],[1.0])|\n",
      "|  5|  2019-01-01 00:04:08|4767265376804500|fraud_Stroman, Hu...|gas_transport| 94.63| Jennifer|  Conner|     F|   4655 David Island|        Dublin|   PA|18917| 40.375|          -75.2045|    2158|   Transport planner|1961-06-19|189a841a0a8ba0305...|1325376248|         40.653382|-76.15266700000001|       0|   0|      Tue|           9.0|           0.0|         0.0|        2.0|  (692,[9],[1.0])| (13,[0],[1.0])|(1,[0],[1.0])| (50,[2],[1.0])|\n",
      "|  6|  2019-01-01 00:04:42|  30074693890476|fraud_Rowe-Vander...|  grocery_net| 44.54|   Kelsey|Richards|     F|889 Sarah Station...|       Holcomb|   KS|67851|37.9931|         -100.9893|    2691|     Arboriculturist|1993-08-16|83ec1cc84142af6e2...|1325376282|37.162704999999995|        -100.15337|       0|   0|      Tue|         622.0|          12.0|         0.0|       25.0|(692,[622],[1.0])|(13,[12],[1.0])|(1,[0],[1.0])|(50,[25],[1.0])|\n",
      "|  7|  2019-01-01 00:05:08|6011360759745864|fraud_Corwin-Collins|gas_transport| 71.65|   Steven|Williams|     M|231 Flores Pass S...|      Edinburg|   VA|22824|38.8432|          -78.6003|    6018|Designer, multimedia|1947-08-21|6d294ed2cc447d2c7...|1325376308|         38.948089|        -78.540296|       0|   0|      Tue|          21.0|           0.0|         1.0|       14.0| (692,[21],[1.0])| (13,[0],[1.0])|    (1,[],[])|(50,[14],[1.0])|\n",
      "|  8|  2019-01-01 00:05:18|4922710831011201|    fraud_Herzog Ltd|     misc_pos|  4.27|  Heather|   Chase|     F|6888 Hicks Stream...|         Manor|   PA|15665|40.3359|          -79.6607|    1472|Public affairs co...|1941-03-07|fc28024ce480f8ef2...|1325376318|         40.351813|        -79.958146|       0|   0|      Tue|         498.0|          10.0|         0.0|        2.0|(692,[498],[1.0])|(13,[10],[1.0])|(1,[0],[1.0])| (50,[2],[1.0])|\n",
      "|  9|  2019-01-01 00:06:01|2720830304681674|fraud_Schoen, Kup...|  grocery_pos|198.39|  Melissa| Aguilar|     F|21326 Taylor Squa...|   Clarksville|   TN|37040| 36.522|-87.34899999999999|  151785|         Pathologist|1974-03-28|3b9014ea8fb80bd65...|1325376361|         37.179198|        -87.485381|       0|   0|      Tue|         107.0|           1.0|         0.0|       31.0|(692,[107],[1.0])| (13,[1],[1.0])|(1,[0],[1.0])|(50,[31],[1.0])|\n",
      "+---+---------------------+----------------+--------------------+-------------+------+---------+--------+------+--------------------+--------------+-----+-----+-------+------------------+--------+--------------------+----------+--------------------+----------+------------------+------------------+--------+----+---------+--------------+--------------+------------+-----------+-----------------+---------------+-------------+---------------+\n",
      "only showing top 10 rows\n",
      "\n",
      "+---+---------------------+----------------+--------------------+--------------+------+--------+--------+------+--------------------+------------+-----+-----+-------+------------------+--------+--------------------+----------+--------------------+----------+------------------+-----------+--------+----+---------+--------------+--------------+------------+-----------+-----------------+---------------+-------------+---------------+\n",
      "|_c0|trans_date_trans_time|          cc_num|            merchant|      category|   amt|   first|    last|gender|              street|        city|state|  zip|    lat|              long|city_pop|                 job|       dob|           trans_num| unix_time|         merch_lat| merch_long|is_fraud|Hour|DayOfWeek|merchant_index|category_index|gender_index|state_index|     merchant_ohe|   category_ohe|   gender_ohe|      state_ohe|\n",
      "+---+---------------------+----------------+--------------------+--------------+------+--------+--------+------+--------------------+------------+-----+-----+-------+------------------+--------+--------------------+----------+--------------------+----------+------------------+-----------+--------+----+---------+--------------+--------------+------------+-----------+-----------------+---------------+-------------+---------------+\n",
      "|  0|  2020-06-21 12:14:25|2291163933867244|fraud_Kirlin and ...| personal_care|  2.86|    Jeff| Elliott|     M|   351 Darlene Green|    Columbia|   SC|29209|33.9659|          -80.9355|  333497| Mechanical engineer|1968-03-19|2da90c7d74bd46a0c...|1371816865|         33.986391| -81.200714|       0|  12|      Sun|         408.0|           8.0|         1.0|       15.0|(692,[408],[1.0])| (13,[8],[1.0])|    (1,[],[])|(50,[15],[1.0])|\n",
      "|  1|  2020-06-21 12:14:33|3573030041201292|fraud_Sporer-Keebler| personal_care| 29.84|  Joanne|Williams|     F|    3638 Marsh Union|     Altonah|   UT|84002|40.3207|          -110.436|     302|Sales professiona...|1990-01-17|324cc204407e99f51...|1371816873|39.450497999999996|-109.960431|       0|  12|      Sun|         397.0|           8.0|         0.0|       41.0|(692,[397],[1.0])| (13,[8],[1.0])|(1,[0],[1.0])|(50,[41],[1.0])|\n",
      "|  2|  2020-06-21 12:14:53|3598215285024754|fraud_Swaniawski,...|health_fitness| 41.28|  Ashley|   Lopez|     F|9333 Valentine Point|    Bellmore|   NY|11710|40.6729|          -73.5365|   34496|   Librarian, public|1970-10-21|c81755dbbbea9d5c7...|1371816893|          40.49581| -74.196111|       0|  12|      Sun|         473.0|           9.0|         0.0|        1.0|(692,[473],[1.0])| (13,[9],[1.0])|(1,[0],[1.0])| (50,[1],[1.0])|\n",
      "|  3|  2020-06-21 12:15:15|3591919803438423|   fraud_Haley Group|      misc_pos| 60.05|   Brian|Williams|     M|32941 Krystal Mil...|  Titusville|   FL|32780|28.5697|          -80.8191|   54767|        Set designer|1987-07-25|2159175b9efe66dc3...|1371816915|28.812397999999998| -80.883061|       0|  12|      Sun|         506.0|          10.0|         1.0|        7.0|(692,[506],[1.0])|(13,[10],[1.0])|    (1,[],[])| (50,[7],[1.0])|\n",
      "|  4|  2020-06-21 12:15:17|3526826139003047|fraud_Johnston-Ca...|        travel|  3.19|  Nathan|  Massey|     M|5783 Evan Roads A...|    Falmouth|   MI|49632|44.2529|-85.01700000000001|    1126|  Furniture designer|1955-07-06|57ff021bd3f328f87...|1371816917|         44.959148| -85.884734|       0|  12|      Sun|         653.0|          13.0|         1.0|        5.0|(692,[653],[1.0])|     (13,[],[])|    (1,[],[])| (50,[5],[1.0])|\n",
      "|  5|  2020-06-21 12:15:37|  30407675418785| fraud_Daugherty LLC|     kids_pets| 19.55|Danielle|   Evans|     F|76752 David Lodge...|   Breesport|   NY|14816|42.1939|          -76.7361|     520|     Psychotherapist|1991-10-13|798db04aaceb4febd...|1371816937|         41.747157| -77.584197|       0|  12|      Sun|         240.0|           4.0|         0.0|        1.0|(692,[240],[1.0])| (13,[4],[1.0])|(1,[0],[1.0])| (50,[1],[1.0])|\n",
      "|  6|  2020-06-21 12:15:44| 213180742685905| fraud_Romaguera Ltd|health_fitness|133.93|   Kayla|  Sutton|     F|     010 Weaver Land|    Carlotta|   CA|95528| 40.507|         -123.9743|    1139|Therapist, occupa...|1951-01-15|17003d7ce534440ea...|1371816944|41.499458000000004|-124.888729|       0|  12|      Sun|         471.0|           9.0|         0.0|        3.0|(692,[471],[1.0])| (13,[9],[1.0])|(1,[0],[1.0])| (50,[3],[1.0])|\n",
      "|  7|  2020-06-21 12:15:50|3589289942931264|   fraud_Reichel LLC| personal_care| 10.37|   Paula| Estrada|     F|     350 Stacy Glens|     Spencer|   SD|57374|43.7557|          -97.5936|     343|Development worke...|1972-03-05|8be473af4f05fc614...|1371816950|         44.495498| -97.728453|       0|  12|      Sun|         442.0|           8.0|         0.0|       37.0|(692,[442],[1.0])| (13,[8],[1.0])|(1,[0],[1.0])|(50,[37],[1.0])|\n",
      "|  8|  2020-06-21 12:16:10|3596357274378601|fraud_Goyette, Ho...|  shopping_pos|  4.37|   David| Everett|     M|     4138 David Fall|  Morrisdale|   PA|16858|41.0001|          -78.2357|    3688|       Advice worker|1973-05-27|71a1da150d1ce5101...|1371816970|         41.546067| -78.120238|       0|  12|      Sun|         186.0|           3.0|         1.0|        2.0|(692,[186],[1.0])| (13,[3],[1.0])|    (1,[],[])| (50,[2],[1.0])|\n",
      "|  9|  2020-06-21 12:16:11|3546897637165774| fraud_Kilback Group|   food_dining| 66.54|   Kayla|  Obrien|     F|7921 Robert Port ...|Prairie Hill|   TX|76678|31.6591|          -96.8094|     263|           Barrister|1956-05-30|a7915132c7c424099...|1371816971|         31.782919| -96.366185|       0|  12|      Sun|         355.0|           7.0|         0.0|        0.0|(692,[355],[1.0])| (13,[7],[1.0])|(1,[0],[1.0])| (50,[0],[1.0])|\n",
      "+---+---------------------+----------------+--------------------+--------------+------+--------+--------+------+--------------------+------------+-----+-----+-------+------------------+--------+--------------------+----------+--------------------+----------+------------------+-----------+--------+----+---------+--------------+--------------+------------+-----------+-----------------+---------------+-------------+---------------+\n",
      "only showing top 10 rows\n",
      "\n"
     ]
    }
   ],
   "source": [
    "#Encoding categorical features\n",
    "indexer = StringIndexer(inputCols=['merchant', 'category', 'gender', 'state'], outputCols=['merchant_index', 'category_index', 'gender_index', 'state_index'])\n",
    "indexer_model = indexer.fit(train_data)\n",
    "train_data = indexer_model.transform(train_data)\n",
    "test_data = indexer_model.transform(test_data)\n",
    "\n",
    "encoder = OneHotEncoder(inputCols=['merchant_index', 'category_index', 'gender_index', 'state_index'], outputCols=['merchant_ohe', 'category_ohe', 'gender_ohe', 'state_ohe'])\n",
    "encoder_model = encoder.fit(train_data)\n",
    "train_data = encoder_model.transform(train_data)\n",
    "test_data = encoder_model.transform(test_data)\n",
    "\n",
    "train_data.show(10)\n",
    "test_data.show(10)"
   ]
  },
  {
   "cell_type": "code",
   "execution_count": 22,
   "id": "9c6d1098",
   "metadata": {},
   "outputs": [],
   "source": [
    "featureCols = ['amt', 'Hour', 'lat', 'long', 'city_pop', 'merch_lat', 'merch_long', 'merchant_ohe', 'category_ohe', 'gender_ohe', 'state_ohe']"
   ]
  },
  {
   "cell_type": "code",
   "execution_count": 23,
   "id": "6c9b003b",
   "metadata": {},
   "outputs": [
    {
     "name": "stdout",
     "output_type": "stream",
     "text": [
      "+---+---------------------+----------------+----------------------------------+-------------+------+---------+--------+------+------------------------------+--------------+-----+-----+-------+------------------+--------+---------------------------------+----------+--------------------------------+----------+------------------+------------------+--------+----+---------+--------------+--------------+------------+-----------+-----------------+---------------+-------------+---------------+--------------------------------------------------------------------------------------------------------------------+\n",
      "|_c0|trans_date_trans_time|cc_num          |merchant                          |category     |amt   |first    |last    |gender|street                        |city          |state|zip  |lat    |long              |city_pop|job                              |dob       |trans_num                       |unix_time |merch_lat         |merch_long        |is_fraud|Hour|DayOfWeek|merchant_index|category_index|gender_index|state_index|merchant_ohe     |category_ohe   |gender_ohe   |state_ohe      |features                                                                                                            |\n",
      "+---+---------------------+----------------+----------------------------------+-------------+------+---------+--------+------+------------------------------+--------------+-----+-----+-------+------------------+--------+---------------------------------+----------+--------------------------------+----------+------------------+------------------+--------+----+---------+--------------+--------------+------------+-----------+-----------------+---------------+-------------+---------------+--------------------------------------------------------------------------------------------------------------------+\n",
      "|0  |2019-01-01 00:00:18  |2703186189652095|fraud_Rippin, Kub and Mann        |misc_net     |4.97  |Jennifer |Banks   |F     |561 Perry Cove                |Moravian Falls|NC   |28654|36.0788|-81.1781          |3495    |Psychologist, counselling        |1988-03-09|0b242abb623afc578575680df30655b9|1325376018|36.011293         |-82.048315        |0       |0   |Tue      |571.0         |11.0          |0.0         |12.0       |(692,[571],[1.0])|(13,[11],[1.0])|(1,[0],[1.0])|(50,[12],[1.0])|(763,[0,2,3,4,5,6,578,710,712,725],[4.97,36.0788,-81.1781,3495.0,36.011293,-82.048315,1.0,1.0,1.0,1.0])             |\n",
      "|1  |2019-01-01 00:00:44  |630423337322    |fraud_Heller, Gutmann and Zieme   |grocery_pos  |107.23|Stephanie|Gill    |F     |43039 Riley Greens Suite 393  |Orient        |WA   |99160|48.8878|-118.2105         |149     |Special educational needs teacher|1978-06-21|1f76529f8574734946361c461b024d99|1325376044|49.159046999999994|-118.186462       |0       |0   |Tue      |81.0          |1.0           |0.0         |29.0       |(692,[81],[1.0]) |(13,[1],[1.0]) |(1,[0],[1.0])|(50,[29],[1.0])|(763,[0,2,3,4,5,6,88,700,712,742],[107.23,48.8878,-118.2105,149.0,49.159046999999994,-118.186462,1.0,1.0,1.0,1.0])  |\n",
      "|2  |2019-01-01 00:00:51  |38859492057661  |fraud_Lind-Buckridge              |entertainment|220.11|Edward   |Sanchez |M     |594 White Dale Suite 530      |Malad City    |ID   |83252|42.1808|-112.262          |4154    |Nature conservation officer      |1962-01-19|a1a22d70485983eac12b5b88dad1cf95|1325376051|43.150704         |-112.154481       |0       |0   |Tue      |319.0         |6.0           |1.0         |45.0       |(692,[319],[1.0])|(13,[6],[1.0]) |(1,[],[])    |(50,[45],[1.0])|(763,[0,2,3,4,5,6,326,705,758],[220.11,42.1808,-112.262,4154.0,43.150704,-112.154481,1.0,1.0,1.0])                  |\n",
      "|3  |2019-01-01 00:01:16  |3534093764340240|fraud_Kutch, Hermiston and Farrell|gas_transport|45.0  |Jeremy   |White   |M     |9443 Cynthia Court Apt. 038   |Boulder       |MT   |59632|46.2306|-112.1138         |1939    |Patent attorney                  |1967-01-12|6b849c168bdad6f867558c3793159a81|1325376076|47.034331         |-112.561071       |0       |0   |Tue      |40.0          |0.0           |1.0         |39.0       |(692,[40],[1.0]) |(13,[0],[1.0]) |(1,[],[])    |(50,[39],[1.0])|(763,[0,2,3,4,5,6,47,699,752],[45.0,46.2306,-112.1138,1939.0,47.034331,-112.561071,1.0,1.0,1.0])                    |\n",
      "|4  |2019-01-01 00:03:06  |375534208663984 |fraud_Keeling-Crist               |misc_pos     |41.96 |Tyler    |Garcia  |M     |408 Bradley Rest              |Doe Hill      |VA   |24433|38.4207|-79.4629          |99      |Dance movement psychotherapist   |1986-03-28|a41d7549acf90789359a9aa5346dcb46|1325376186|38.674999         |-78.632459        |0       |0   |Tue      |519.0         |10.0          |1.0         |14.0       |(692,[519],[1.0])|(13,[10],[1.0])|(1,[],[])    |(50,[14],[1.0])|(763,[0,2,3,4,5,6,526,709,727],[41.96,38.4207,-79.4629,99.0,38.674999,-78.632459,1.0,1.0,1.0])                      |\n",
      "|5  |2019-01-01 00:04:08  |4767265376804500|fraud_Stroman, Hudson and Erdman  |gas_transport|94.63 |Jennifer |Conner  |F     |4655 David Island             |Dublin        |PA   |18917|40.375 |-75.2045          |2158    |Transport planner                |1961-06-19|189a841a0a8ba03058526bcfe566aab5|1325376248|40.653382         |-76.15266700000001|0       |0   |Tue      |9.0           |0.0           |0.0         |2.0        |(692,[9],[1.0])  |(13,[0],[1.0]) |(1,[0],[1.0])|(50,[2],[1.0]) |(763,[0,2,3,4,5,6,16,699,712,715],[94.63,40.375,-75.2045,2158.0,40.653382,-76.15266700000001,1.0,1.0,1.0,1.0])      |\n",
      "|6  |2019-01-01 00:04:42  |30074693890476  |fraud_Rowe-Vandervort             |grocery_net  |44.54 |Kelsey   |Richards|F     |889 Sarah Station Suite 624   |Holcomb       |KS   |67851|37.9931|-100.9893         |2691    |Arboriculturist                  |1993-08-16|83ec1cc84142af6e2acf10c44949e720|1325376282|37.162704999999995|-100.15337        |0       |0   |Tue      |622.0         |12.0          |0.0         |25.0       |(692,[622],[1.0])|(13,[12],[1.0])|(1,[0],[1.0])|(50,[25],[1.0])|(763,[0,2,3,4,5,6,629,711,712,738],[44.54,37.9931,-100.9893,2691.0,37.162704999999995,-100.15337,1.0,1.0,1.0,1.0])  |\n",
      "|7  |2019-01-01 00:05:08  |6011360759745864|fraud_Corwin-Collins              |gas_transport|71.65 |Steven   |Williams|M     |231 Flores Pass Suite 720     |Edinburg      |VA   |22824|38.8432|-78.6003          |6018    |Designer, multimedia             |1947-08-21|6d294ed2cc447d2c71c7171a3d54967c|1325376308|38.948089         |-78.540296        |0       |0   |Tue      |21.0          |0.0           |1.0         |14.0       |(692,[21],[1.0]) |(13,[0],[1.0]) |(1,[],[])    |(50,[14],[1.0])|(763,[0,2,3,4,5,6,28,699,727],[71.65,38.8432,-78.6003,6018.0,38.948089,-78.540296,1.0,1.0,1.0])                     |\n",
      "|8  |2019-01-01 00:05:18  |4922710831011201|fraud_Herzog Ltd                  |misc_pos     |4.27  |Heather  |Chase   |F     |6888 Hicks Stream Suite 954   |Manor         |PA   |15665|40.3359|-79.6607          |1472    |Public affairs consultant        |1941-03-07|fc28024ce480f8ef21a32d64c93a29f5|1325376318|40.351813         |-79.958146        |0       |0   |Tue      |498.0         |10.0          |0.0         |2.0        |(692,[498],[1.0])|(13,[10],[1.0])|(1,[0],[1.0])|(50,[2],[1.0]) |(763,[0,2,3,4,5,6,505,709,712,715],[4.27,40.3359,-79.6607,1472.0,40.351813,-79.958146,1.0,1.0,1.0,1.0])             |\n",
      "|9  |2019-01-01 00:06:01  |2720830304681674|fraud_Schoen, Kuphal and Nitzsche |grocery_pos  |198.39|Melissa  |Aguilar |F     |21326 Taylor Squares Suite 708|Clarksville   |TN   |37040|36.522 |-87.34899999999999|151785  |Pathologist                      |1974-03-28|3b9014ea8fb80bd65de0b1463b00b00e|1325376361|37.179198         |-87.485381        |0       |0   |Tue      |107.0         |1.0           |0.0         |31.0       |(692,[107],[1.0])|(13,[1],[1.0]) |(1,[0],[1.0])|(50,[31],[1.0])|(763,[0,2,3,4,5,6,114,700,712,744],[198.39,36.522,-87.34899999999999,151785.0,37.179198,-87.485381,1.0,1.0,1.0,1.0])|\n",
      "+---+---------------------+----------------+----------------------------------+-------------+------+---------+--------+------+------------------------------+--------------+-----+-----+-------+------------------+--------+---------------------------------+----------+--------------------------------+----------+------------------+------------------+--------+----+---------+--------------+--------------+------------+-----------+-----------------+---------------+-------------+---------------+--------------------------------------------------------------------------------------------------------------------+\n",
      "only showing top 10 rows\n",
      "\n",
      "+---+---------------------+----------------+------------------------------------+--------------+------+--------+--------+------+---------------------------+------------+-----+-----+-------+------------------+--------+-------------------------------------+----------+--------------------------------+----------+------------------+-----------+--------+----+---------+--------------+--------------+------------+-----------+-----------------+---------------+-------------+---------------+--------------------------------------------------------------------------------------------------------------------------+\n",
      "|_c0|trans_date_trans_time|cc_num          |merchant                            |category      |amt   |first   |last    |gender|street                     |city        |state|zip  |lat    |long              |city_pop|job                                  |dob       |trans_num                       |unix_time |merch_lat         |merch_long |is_fraud|Hour|DayOfWeek|merchant_index|category_index|gender_index|state_index|merchant_ohe     |category_ohe   |gender_ohe   |state_ohe      |features                                                                                                                  |\n",
      "+---+---------------------+----------------+------------------------------------+--------------+------+--------+--------+------+---------------------------+------------+-----+-----+-------+------------------+--------+-------------------------------------+----------+--------------------------------+----------+------------------+-----------+--------+----+---------+--------------+--------------+------------+-----------+-----------------+---------------+-------------+---------------+--------------------------------------------------------------------------------------------------------------------------+\n",
      "|0  |2020-06-21 12:14:25  |2291163933867244|fraud_Kirlin and Sons               |personal_care |2.86  |Jeff    |Elliott |M     |351 Darlene Green          |Columbia    |SC   |29209|33.9659|-80.9355          |333497  |Mechanical engineer                  |1968-03-19|2da90c7d74bd46a0caf3777415b3ebd3|1371816865|33.986391         |-81.200714 |0       |12  |Sun      |408.0         |8.0           |1.0         |15.0       |(692,[408],[1.0])|(13,[8],[1.0]) |(1,[],[])    |(50,[15],[1.0])|(763,[0,1,2,3,4,5,6,415,707,728],[2.86,12.0,33.9659,-80.9355,333497.0,33.986391,-81.200714,1.0,1.0,1.0])                  |\n",
      "|1  |2020-06-21 12:14:33  |3573030041201292|fraud_Sporer-Keebler                |personal_care |29.84 |Joanne  |Williams|F     |3638 Marsh Union           |Altonah     |UT   |84002|40.3207|-110.436          |302     |Sales professional, IT               |1990-01-17|324cc204407e99f51b0d6ca0055005e7|1371816873|39.450497999999996|-109.960431|0       |12  |Sun      |397.0         |8.0           |0.0         |41.0       |(692,[397],[1.0])|(13,[8],[1.0]) |(1,[0],[1.0])|(50,[41],[1.0])|(763,[0,1,2,3,4,5,6,404,707,712,754],[29.84,12.0,40.3207,-110.436,302.0,39.450497999999996,-109.960431,1.0,1.0,1.0,1.0])  |\n",
      "|2  |2020-06-21 12:14:53  |3598215285024754|fraud_Swaniawski, Nitzsche and Welch|health_fitness|41.28 |Ashley  |Lopez   |F     |9333 Valentine Point       |Bellmore    |NY   |11710|40.6729|-73.5365          |34496   |Librarian, public                    |1970-10-21|c81755dbbbea9d5c77f094348a7579be|1371816893|40.49581          |-74.196111 |0       |12  |Sun      |473.0         |9.0           |0.0         |1.0        |(692,[473],[1.0])|(13,[9],[1.0]) |(1,[0],[1.0])|(50,[1],[1.0]) |(763,[0,1,2,3,4,5,6,480,708,712,714],[41.28,12.0,40.6729,-73.5365,34496.0,40.49581,-74.196111,1.0,1.0,1.0,1.0])           |\n",
      "|3  |2020-06-21 12:15:15  |3591919803438423|fraud_Haley Group                   |misc_pos      |60.05 |Brian   |Williams|M     |32941 Krystal Mill Apt. 552|Titusville  |FL   |32780|28.5697|-80.8191          |54767   |Set designer                         |1987-07-25|2159175b9efe66dc301f149d3d5abf8c|1371816915|28.812397999999998|-80.883061 |0       |12  |Sun      |506.0         |10.0          |1.0         |7.0        |(692,[506],[1.0])|(13,[10],[1.0])|(1,[],[])    |(50,[7],[1.0]) |(763,[0,1,2,3,4,5,6,513,709,720],[60.05,12.0,28.5697,-80.8191,54767.0,28.812397999999998,-80.883061,1.0,1.0,1.0])         |\n",
      "|4  |2020-06-21 12:15:17  |3526826139003047|fraud_Johnston-Casper               |travel        |3.19  |Nathan  |Massey  |M     |5783 Evan Roads Apt. 465   |Falmouth    |MI   |49632|44.2529|-85.01700000000001|1126    |Furniture designer                   |1955-07-06|57ff021bd3f328f8738bb535c302a31b|1371816917|44.959148         |-85.884734 |0       |12  |Sun      |653.0         |13.0          |1.0         |5.0        |(692,[653],[1.0])|(13,[],[])     |(1,[],[])    |(50,[5],[1.0]) |(763,[0,1,2,3,4,5,6,660,718],[3.19,12.0,44.2529,-85.01700000000001,1126.0,44.959148,-85.884734,1.0,1.0])                  |\n",
      "|5  |2020-06-21 12:15:37  |30407675418785  |fraud_Daugherty LLC                 |kids_pets     |19.55 |Danielle|Evans   |F     |76752 David Lodge Apt. 064 |Breesport   |NY   |14816|42.1939|-76.7361          |520     |Psychotherapist                      |1991-10-13|798db04aaceb4febd084f1a7c404da93|1371816937|41.747157         |-77.584197 |0       |12  |Sun      |240.0         |4.0           |0.0         |1.0        |(692,[240],[1.0])|(13,[4],[1.0]) |(1,[0],[1.0])|(50,[1],[1.0]) |(763,[0,1,2,3,4,5,6,247,703,712,714],[19.55,12.0,42.1939,-76.7361,520.0,41.747157,-77.584197,1.0,1.0,1.0,1.0])            |\n",
      "|6  |2020-06-21 12:15:44  |213180742685905 |fraud_Romaguera Ltd                 |health_fitness|133.93|Kayla   |Sutton  |F     |010 Weaver Land            |Carlotta    |CA   |95528|40.507 |-123.9743         |1139    |Therapist, occupational              |1951-01-15|17003d7ce534440eadb10c4750e020e5|1371816944|41.499458000000004|-124.888729|0       |12  |Sun      |471.0         |9.0           |0.0         |3.0        |(692,[471],[1.0])|(13,[9],[1.0]) |(1,[0],[1.0])|(50,[3],[1.0]) |(763,[0,1,2,3,4,5,6,478,708,712,716],[133.93,12.0,40.507,-123.9743,1139.0,41.499458000000004,-124.888729,1.0,1.0,1.0,1.0])|\n",
      "|7  |2020-06-21 12:15:50  |3589289942931264|fraud_Reichel LLC                   |personal_care |10.37 |Paula   |Estrada |F     |350 Stacy Glens            |Spencer     |SD   |57374|43.7557|-97.5936          |343     |Development worker, international aid|1972-03-05|8be473af4f05fc6146ea55ace73e7ca2|1371816950|44.495498         |-97.728453 |0       |12  |Sun      |442.0         |8.0           |0.0         |37.0       |(692,[442],[1.0])|(13,[8],[1.0]) |(1,[0],[1.0])|(50,[37],[1.0])|(763,[0,1,2,3,4,5,6,449,707,712,750],[10.37,12.0,43.7557,-97.5936,343.0,44.495498,-97.728453,1.0,1.0,1.0,1.0])            |\n",
      "|8  |2020-06-21 12:16:10  |3596357274378601|fraud_Goyette, Howell and Collier   |shopping_pos  |4.37  |David   |Everett |M     |4138 David Fall            |Morrisdale  |PA   |16858|41.0001|-78.2357          |3688    |Advice worker                        |1973-05-27|71a1da150d1ce510193d7622e08e784e|1371816970|41.546067         |-78.120238 |0       |12  |Sun      |186.0         |3.0           |1.0         |2.0        |(692,[186],[1.0])|(13,[3],[1.0]) |(1,[],[])    |(50,[2],[1.0]) |(763,[0,1,2,3,4,5,6,193,702,715],[4.37,12.0,41.0001,-78.2357,3688.0,41.546067,-78.120238,1.0,1.0,1.0])                    |\n",
      "|9  |2020-06-21 12:16:11  |3546897637165774|fraud_Kilback Group                 |food_dining   |66.54 |Kayla   |Obrien  |F     |7921 Robert Port Suite 343 |Prairie Hill|TX   |76678|31.6591|-96.8094          |263     |Barrister                            |1956-05-30|a7915132c7c4240996ba03a47f81e3bd|1371816971|31.782919         |-96.366185 |0       |12  |Sun      |355.0         |7.0           |0.0         |0.0        |(692,[355],[1.0])|(13,[7],[1.0]) |(1,[0],[1.0])|(50,[0],[1.0]) |(763,[0,1,2,3,4,5,6,362,706,712,713],[66.54,12.0,31.6591,-96.8094,263.0,31.782919,-96.366185,1.0,1.0,1.0,1.0])            |\n",
      "+---+---------------------+----------------+------------------------------------+--------------+------+--------+--------+------+---------------------------+------------+-----+-----+-------+------------------+--------+-------------------------------------+----------+--------------------------------+----------+------------------+-----------+--------+----+---------+--------------+--------------+------------+-----------+-----------------+---------------+-------------+---------------+--------------------------------------------------------------------------------------------------------------------------+\n",
      "only showing top 10 rows\n",
      "\n"
     ]
    }
   ],
   "source": [
    "assembler = VectorAssembler(inputCols=featureCols, outputCol=\"features\")\n",
    "train_assembled_df = assembler.transform(train_data)\n",
    "train_assembled_df.show(10, truncate=False)\n",
    "\n",
    "test_assembled_df = assembler.transform(test_data)\n",
    "test_assembled_df.show(10, truncate=False)"
   ]
  },
  {
   "cell_type": "code",
   "execution_count": 24,
   "id": "6a6945e4",
   "metadata": {},
   "outputs": [],
   "source": [
    "scaler = StandardScaler(inputCol='features', outputCol='scaledFeatures')\n",
    "scaler_model = scaler.fit(train_assembled_df)\n",
    "\n",
    "train_scaled_df = scaler_model.transform(train_assembled_df)\n",
    "test_scaled_df = scaler_model.transform(test_assembled_df)"
   ]
  },
  {
   "cell_type": "code",
   "execution_count": 25,
   "id": "e26f3db0",
   "metadata": {},
   "outputs": [
    {
     "name": "stdout",
     "output_type": "stream",
     "text": [
      "+-----------------------------------------------------------------------------------------------------------------------------------------------------------------------------------------------------------------------------------+--------+\n",
      "|scaledFeatures                                                                                                                                                                                                                     |is_fraud|\n",
      "+-----------------------------------------------------------------------------------------------------------------------------------------------------------------------------------------------------------------------------------+--------+\n",
      "|(763,[0,2,3,4,5,6,578,710,712,725],[0.031001265028031362,7.1079908619447005,-5.899967004743803,0.011574520212218796,7.047511637406811,-5.958011430827895,32.00658769795707,4.641131313103782,2.0090660136313554,6.623178537103844])|0       |\n",
      "|(763,[0,2,3,4,5,6,88,700,712,742],[0.6688663277577069,9.631529753222948,-8.591455695738965,4.934487873020316E-4,9.620564188470777,-8.582215144395185,22.782666124742196,3.4048589789974404,2.0090660136313554,8.33875829701227])   |0       |\n",
      "|(763,[0,2,3,4,5,6,326,705,758],[1.3729755423179042,8.310163889860998,-8.159122914758399,0.013756954781561338,8.444714512258603,-8.144197474580313,26.177512273182103,3.8562314373475597,15.32481388480122])                        |0       |\n",
      "|(763,[0,2,3,4,5,6,47,699,752],[0.2806955586039057,9.108026939427605,-8.148351843372113,0.006421457708581472,9.204751272889423,-8.173722369365297,22.298914543634844,3.3108518600414514,10.551152825819958])                        |0       |\n",
      "|(763,[0,2,3,4,5,6,526,709,727],[0.26173301420044187,7.5693754922425,-5.77530747949578,3.278619459255109E-4,7.568806416620386,-5.709966006688934,28.55687215164952,4.164622024962488,6.734523928414677])                            |0       |\n",
      "|(763,[0,2,3,4,5,6,16,699,712,715],[0.5902715713486132,7.954397902674625,-5.465809973481213,0.007146728073810633,7.955981551257951,-5.529893703167826,21.852809538762656,3.3108518600414514,2.0090660136313554,4.15994004276839])   |0       |\n",
      "|(763,[0,2,3,4,5,6,629,711,712,738],[0.27782622622706576,7.485132754330831,-7.3398310361067,0.008911883802884343,7.272846214242189,-7.272726116263759,37.84452673697639,5.437347777289896,2.0090660136313554,7.576608136762863])    |0       |\n",
      "|(763,[0,2,3,4,5,6,28,699,727],[0.4469297060882188,7.652613464103307,-5.712614320401245,0.01993003222807803,7.622250900078934,-5.703273508403023,22.039510212021977,3.3108518600414514,6.734523928414677])                          |0       |\n",
      "|(763,[0,2,3,4,5,6,505,709,712,715],[0.026634889671970606,7.946694696284667,-5.789683443869648,0.004874876610124769,7.8969636471526705,-5.806231948283225,27.975007402750766,4.164622024962488,2.0090660136313554,4.15994004276839])|0       |\n",
      "|(763,[0,2,3,4,5,6,114,700,712,744],[1.2374931526984188,7.195307001894307,-6.3484636607332074,0.5026719743667039,7.276073940873271,-6.352828818341163,22.947974333353127,3.4048589789974404,2.0090660136313554,8.653406563967103])  |0       |\n",
      "+-----------------------------------------------------------------------------------------------------------------------------------------------------------------------------------------------------------------------------------+--------+\n",
      "only showing top 10 rows\n",
      "\n",
      "+--------------------------------------------------------------------------------------------------------------------------------------------------------------------------------------------------------------------------------------------------------+--------+\n",
      "|scaledFeatures                                                                                                                                                                                                                                          |is_fraud|\n",
      "+--------------------------------------------------------------------------------------------------------------------------------------------------------------------------------------------------------------------------------------------------------+--------+\n",
      "|(763,[0,1,2,3,4,5,6,415,707,728],[0.01783976216904823,1.760092395673448,6.691722197460211,-5.882335007994054,1.1044542967709103,6.65123260322694,-5.896462129702319,26.740024957667227,3.9194921863407433,6.741282212580305])                           |0       |\n",
      "|(763,[0,1,2,3,4,5,6,404,707,712,754],[0.1861323437497899,1.760092395673448,7.943700099427189,-8.026410523723598,0.001000144521914185,7.720573758806553,-7.984874580748697,26.6741018598047,3.9194921863407433,2.0090660136313554,11.05459776138727])    |0       |\n",
      "|(763,[0,1,2,3,4,5,6,480,708,712,714],[0.25749139242598285,1.760092395673448,8.013088060822161,-5.344580910914923,0.11424167360248914,7.925144266305992,-5.387816647556691,27.507069155105988,4.021165909791666,2.0090660136313554,4.074024016328892])   |0       |\n",
      "|(763,[0,1,2,3,4,5,6,513,709,720],[0.37457262875921193,1.760092395673448,5.628600910465467,-5.87387513816029,0.18137389083335817,5.638667575935046,-5.87339547434155,28.231101968622884,4.164622024962488,5.60550957789195])                             |0       |\n",
      "|(763,[0,1,2,3,4,5,6,660,718],[0.01989819626547687,1.760092395673448,8.718394425938573,-6.178975546881535,0.0037290156677992456,8.798632105153656,-6.236596411585213,39.51428220924181,5.3973527494618105])                                              |0       |\n",
      "|(763,[0,1,2,3,4,5,6,247,703,712,714],[0.12194662601569682,1.760092395673448,8.312744759521062,-5.577125580331652,0.0017221031503158151,8.170036404584229,-5.633845528425578,24.134412845737256,3.544987304885465,2.0090660136313554,4.074024016328892]) |0       |\n",
      "|(763,[0,1,2,3,4,5,6,478,708,712,716],[0.8354123591960243,1.760092395673448,7.980403612226403,-9.010364611098431,0.003772068246557141,8.121561011460356,-9.068906228769807,27.507069155105988,4.021165909791666,2.0090660136313554,4.9043276845059225])  |0       |\n",
      "|(763,[0,1,2,3,4,5,6,449,707,712,750],[0.06468473206050004,1.760092395673448,8.620439586626874,-7.093033957116079,0.0011359257318429318,8.707894492075345,-7.096638609715833,27.06189169464153,3.9194921863407433,2.0090660136313554,10.306548737941176])|0       |\n",
      "|(763,[0,1,2,3,4,5,6,193,702,715],[0.02725865757997929,1.760092395673448,8.077550698438388,-5.686115449770747,0.012213685419932166,8.130682524256574,-5.672770622809203,23.621861646490103,3.494669367420675,4.15994004276839])                          |0       |\n",
      "|(763,[0,1,2,3,4,5,6,362,706,712,713],[0.4150551659889753,1.760092395673448,6.23725272174777,-7.036038854679337,8.709867856404988E-4,6.220006916254244,-6.997716306243165,26.464959769382055,3.905538411852131,2.0090660136313554,3.840049899695896])    |0       |\n",
      "+--------------------------------------------------------------------------------------------------------------------------------------------------------------------------------------------------------------------------------------------------------+--------+\n",
      "only showing top 10 rows\n",
      "\n"
     ]
    }
   ],
   "source": [
    "# Final datasets \n",
    "train_data_df = train_scaled_df.select('scaledFeatures', 'is_fraud')\n",
    "train_data_df.show(10, truncate=False)\n",
    "test_data_df = test_scaled_df.select('scaledFeatures', 'is_fraud')\n",
    "test_data_df.show(10, truncate=False)"
   ]
  },
  {
   "cell_type": "markdown",
   "id": "0b4b35a4",
   "metadata": {},
   "source": [
    "Model Creation"
   ]
  },
  {
   "cell_type": "code",
   "execution_count": 26,
   "id": "8a5e0e59",
   "metadata": {},
   "outputs": [],
   "source": [
    "lr = LogisticRegression(featuresCol='scaledFeatures', labelCol='is_fraud', predictionCol='pred_is_fraud')\n",
    "\n",
    "lr_model = lr.fit(train_data_df)"
   ]
  },
  {
   "cell_type": "markdown",
   "id": "57b7b209",
   "metadata": {},
   "source": [
    "Model evaluation"
   ]
  },
  {
   "cell_type": "code",
   "execution_count": 31,
   "id": "d89b2fca",
   "metadata": {},
   "outputs": [
    {
     "name": "stdout",
     "output_type": "stream",
     "text": [
      "+--------------------------------------------------------------------------------------------------------------------------------------------------------------------------------------------------------------------------------------------------------+--------+----------------------------------------+-------------------------------------------+-------------+\n",
      "|scaledFeatures                                                                                                                                                                                                                                          |is_fraud|rawPrediction                           |probability                                |pred_is_fraud|\n",
      "+--------------------------------------------------------------------------------------------------------------------------------------------------------------------------------------------------------------------------------------------------------+--------+----------------------------------------+-------------------------------------------+-------------+\n",
      "|(763,[0,1,2,3,4,5,6,415,707,728],[0.01783976216904823,1.760092395673448,6.691722197460211,-5.882335007994054,1.1044542967709103,6.65123260322694,-5.896462129702319,26.740024957667227,3.9194921863407433,6.741282212580305])                           |0       |[7.30001888115307,-7.30001888115307]    |[0.9993249300069826,6.750699930173631E-4]  |0.0          |\n",
      "|(763,[0,1,2,3,4,5,6,404,707,712,754],[0.1861323437497899,1.760092395673448,7.943700099427189,-8.026410523723598,0.001000144521914185,7.720573758806553,-7.984874580748697,26.6741018598047,3.9194921863407433,2.0090660136313554,11.05459776138727])    |0       |[6.7762216587067545,-6.7762216587067545]|[0.9988607231785234,0.0011392768214766313] |0.0          |\n",
      "|(763,[0,1,2,3,4,5,6,480,708,712,714],[0.25749139242598285,1.760092395673448,8.013088060822161,-5.344580910914923,0.11424167360248914,7.925144266305992,-5.387816647556691,27.507069155105988,4.021165909791666,2.0090660136313554,4.074024016328892])   |0       |[7.495433426644011,-7.495433426644011]  |[0.9994446926913576,5.553073086423943E-4]  |0.0          |\n",
      "|(763,[0,1,2,3,4,5,6,513,709,720],[0.37457262875921193,1.760092395673448,5.628600910465467,-5.87387513816029,0.18137389083335817,5.638667575935046,-5.87339547434155,28.231101968622884,4.164622024962488,5.60550957789195])                             |0       |[5.569030766947269,-5.569030766947269]  |[0.9962003171903938,0.0037996828096061863] |0.0          |\n",
      "|(763,[0,1,2,3,4,5,6,660,718],[0.01989819626547687,1.760092395673448,8.718394425938573,-6.178975546881535,0.0037290156677992456,8.798632105153656,-6.236596411585213,39.51428220924181,5.3973527494618105])                                              |0       |[31.048195940006377,-31.048195940006377]|[0.9999999999999671,3.2862601528904634E-14]|0.0          |\n",
      "|(763,[0,1,2,3,4,5,6,247,703,712,714],[0.12194662601569682,1.760092395673448,8.312744759521062,-5.577125580331652,0.0017221031503158151,8.170036404584229,-5.633845528425578,24.134412845737256,3.544987304885465,2.0090660136313554,4.074024016328892]) |0       |[6.512779777288822,-6.512779777288822]  |[0.9985178521964035,0.0014821478035964564] |0.0          |\n",
      "|(763,[0,1,2,3,4,5,6,478,708,712,716],[0.8354123591960243,1.760092395673448,7.980403612226403,-9.010364611098431,0.003772068246557141,8.121561011460356,-9.068906228769807,27.507069155105988,4.021165909791666,2.0090660136313554,4.9043276845059225])  |0       |[7.689300247755918,-7.689300247755918]  |[0.999542511056786,4.574889432139573E-4]   |0.0          |\n",
      "|(763,[0,1,2,3,4,5,6,449,707,712,750],[0.06468473206050004,1.760092395673448,8.620439586626874,-7.093033957116079,0.0011359257318429318,8.707894492075345,-7.096638609715833,27.06189169464153,3.9194921863407433,2.0090660136313554,10.306548737941176])|0       |[6.215623616313189,-6.215623616313189]  |[0.9980060139291946,0.0019939860708053647] |0.0          |\n",
      "|(763,[0,1,2,3,4,5,6,193,702,715],[0.02725865757997929,1.760092395673448,8.077550698438388,-5.686115449770747,0.012213685419932166,8.130682524256574,-5.672770622809203,23.621861646490103,3.494669367420675,4.15994004276839])                          |0       |[5.768060733864058,-5.768060733864058]  |[0.9968839268389408,0.0031160731610592185] |0.0          |\n",
      "|(763,[0,1,2,3,4,5,6,362,706,712,713],[0.4150551659889753,1.760092395673448,6.23725272174777,-7.036038854679337,8.709867856404988E-4,6.220006916254244,-6.997716306243165,26.464959769382055,3.905538411852131,2.0090660136313554,3.840049899695896])    |0       |[6.821412479631558,-6.821412479631558]  |[0.9989110072208767,0.0010889927791233323] |0.0          |\n",
      "+--------------------------------------------------------------------------------------------------------------------------------------------------------------------------------------------------------------------------------------------------------+--------+----------------------------------------+-------------------------------------------+-------------+\n",
      "only showing top 10 rows\n",
      "\n"
     ]
    }
   ],
   "source": [
    "predictions = lr_model.transform(test_data_df)\n",
    "\n",
    "predictions.show(10, truncate = False)"
   ]
  },
  {
   "cell_type": "code",
   "execution_count": 28,
   "id": "918d0879",
   "metadata": {},
   "outputs": [
    {
     "name": "stdout",
     "output_type": "stream",
     "text": [
      "ROC AUC: 0.81\n"
     ]
    }
   ],
   "source": [
    "binary_evaluator = BinaryClassificationEvaluator(labelCol='is_fraud')\n",
    "\n",
    "auc = binary_evaluator.evaluate(predictions, {binary_evaluator.metricName: \"areaUnderROC\"})\n",
    "print(f\"ROC AUC: {auc:.2f}\")"
   ]
  },
  {
   "cell_type": "code",
   "execution_count": 32,
   "id": "7f92ca96",
   "metadata": {},
   "outputs": [
    {
     "data": {
      "text/html": [
       "\n",
       "        <iframe\n",
       "            width=\"100%\"\n",
       "            height=\"650\"\n",
       "            src=\"http://127.0.0.1:8050/\"\n",
       "            frameborder=\"0\"\n",
       "            allowfullscreen\n",
       "            \n",
       "        ></iframe>\n",
       "        "
      ],
      "text/plain": [
       "<IPython.lib.display.IFrame at 0x1881c0f3050>"
      ]
     },
     "metadata": {},
     "output_type": "display_data"
    }
   ],
   "source": [
    "app = dash.Dash(__name__)\n",
    "\n",
    "\n",
    "app.layout = html.Div(children=[\n",
    "    html.H1(children='Fraud Detection Dashboard'),\n",
    "\n",
    "    dcc.Graph(\n",
    "        id='amt-distribution',\n",
    "        figure=px.histogram(non_fraud_df, x='amt', nbins=50, title='Non-Fraudulent Transaction Amounts').update_traces(marker_color='blue')\n",
    "    ),\n",
    "    dcc.Graph(\n",
    "        id='fraud-amt-distribution',\n",
    "        figure=px.histogram(fraud_df, x='amt', nbins=50, title='Fraudulent Transaction Amounts').update_traces(marker_color='red')\n",
    "    )\n",
    "])\n",
    "\n",
    "if __name__ == '__main__':\n",
    "    app.run_server(debug=True)\n"
   ]
  }
 ],
 "metadata": {
  "kernelspec": {
   "display_name": "Python 3 (ipykernel)",
   "language": "python",
   "name": "python3"
  },
  "language_info": {
   "codemirror_mode": {
    "name": "ipython",
    "version": 3
   },
   "file_extension": ".py",
   "mimetype": "text/x-python",
   "name": "python",
   "nbconvert_exporter": "python",
   "pygments_lexer": "ipython3",
   "version": "3.11.4"
  }
 },
 "nbformat": 4,
 "nbformat_minor": 5
}
